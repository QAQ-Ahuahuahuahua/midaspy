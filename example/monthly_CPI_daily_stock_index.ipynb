{
 "cells": [
  {
   "cell_type": "markdown",
   "metadata": {},
   "source": [
    "<a href=\"https://colab.research.google.com/github/Yoseph-Zuskin/midaspy/blob/master/example/monthly_CPI_daily_stock_index.ipynb\" target=\"_parent\"><img src=\"https://colab.research.google.com/assets/colab-badge.svg\" alt=\"Open In Colab\"/></a>"
   ]
  },
  {
   "cell_type": "markdown",
   "metadata": {},
   "source": [
    "## Mixed Frequency Time-Series Forecasting Tutorial Using MIDAS Regression"
   ]
  },
  {
   "cell_type": "markdown",
   "metadata": {},
   "source": [
    "##### This library is still in alpha stage of development. To install, run the following command:"
   ]
  },
  {
   "cell_type": "raw",
   "metadata": {},
   "source": [
    "pip install --user git+git://github.com/Yoseph-Zuskin/midaspy.git@master"
   ]
  },
  {
   "cell_type": "code",
   "execution_count": 1,
   "metadata": {},
   "outputs": [],
   "source": [
    "%matplotlib inline\n",
    "# Load all necessary packages\n",
    "import pandas as pd\n",
    "#import sys\n",
    "#sys.path.append(\"../\")\n",
    "#from midaspy.model import MIDASRegressor"
   ]
  },
  {
   "cell_type": "markdown",
   "metadata": {},
   "source": [
    "#### Use the following functions to extract CSV file from zip files and load data from Statistics Canada:"
   ]
  },
  {
   "cell_type": "code",
   "execution_count": 2,
   "metadata": {},
   "outputs": [],
   "source": [
    "from zipfile import ZipFile\n",
    "from requests import get\n",
    "from io import BytesIO\n",
    "def extract_zip_from_url(link):\n",
    "    \"\"\"\n",
    "    Extract ZIP from URL\n",
    "    this function extracts the bytes data from within ZIP files that are found online\n",
    "    \n",
    "    Parameters\n",
    "        link (str): URL link for the ZIP file\n",
    "        \n",
    "    Returns\n",
    "        output (dict): dictionary of zipped files' bytes data\n",
    "    \"\"\"\n",
    "    u=get(link)\n",
    "    f=BytesIO() \n",
    "    f.write(u.content)\n",
    "    input_zip=ZipFile(f)\n",
    "    output={i:input_zip.read(i) for i in input_zip.namelist()}\n",
    "    return output"
   ]
  },
  {
   "cell_type": "code",
   "execution_count": 3,
   "metadata": {},
   "outputs": [],
   "source": [
    "def load_stats_can_data(pid,low_memory=False):\n",
    "    \"\"\"\n",
    "    Load Statistics Canada Data\n",
    "    custom function to load data directly from an online zip file into a pandas dataframe\n",
    "    \n",
    "    Parameters\n",
    "        pid (str): product id for the Statistics Canada online data asset\n",
    "        low_memory (bool): memory setting for the pandas.read_csv function\n",
    "        \n",
    "    Returns\n",
    "        df (pandas.DataFrame): resulting dataframe of all variables from the data asset\n",
    "    \"\"\"\n",
    "    # first extract the zip file from the Statistics Canada website using extract_zip_from_url\n",
    "    online_zip=extract_zip_from_url('https://www150.statcan.gc.ca/n1/tbl/csv/{}-eng.zip'.format(pid))\n",
    "    # then load the resulting csv file for the data asset and set the date to datetime64[ns] data type\n",
    "    df=pd.read_csv(BytesIO(online_zip['{}.csv'.format(pid)]),parse_dates=[0],low_memory=low_memory)\n",
    "    df=df[df.iloc[:,1]=='Canada'] # filter the data asset to exclude data related to the territories\n",
    "    variables=list(set(df.iloc[:,3])) # define list of variable types as they appear in the 4th column\n",
    "    variable_series={} # store each variable series in this temporary dictionary instance\n",
    "    for v in variables: # iterable over all the variables in this data asset\n",
    "        series=df[df.iloc[:,3]==v].set_index(df.columns[0]).VALUE # filter dataframe for the variable\n",
    "        series.rename(v,inplace=True) # rename the series to what Statistics Canada refers to it as\n",
    "        variable_series[v]=series # store the resulting series in the temporary dictionary instance\n",
    "    df=pd.DataFrame() # create dataframe to store all combined series\n",
    "    for v in variables: # iterate over each variable and merge it as this works when pd.concat may fail\n",
    "        df=pd.merge(right=df,left=variable_series[v],right_index=True,left_index=True,how='outer')\n",
    "    return df        "
   ]
  },
  {
   "cell_type": "markdown",
   "metadata": {},
   "source": [
    "### Part 1: Load Raw Data"
   ]
  },
  {
   "cell_type": "code",
   "execution_count": 4,
   "metadata": {},
   "outputs": [],
   "source": [
    "# Load the Canadian Consumer Price Index data frm Statistics Canada\n",
    "cpi_df=load_stats_can_data('10100106')\n",
    "col='Consumer Price Index (CPI) inversely weighted by volatility and is adjusted to exclude the effect of changes in indirect taxes (CPIW) (year-over-year percent change)'\n",
    "cpi_df=cpi_df[~cpi_df.index.duplicated(keep='first')][col]"
   ]
  },
  {
   "cell_type": "code",
   "execution_count": 5,
   "metadata": {},
   "outputs": [],
   "source": [
    "# load the S&P/TSX Composite index historical daily data from Yahoo Finance\n",
    "tsx=pd.read_csv('https://query1.finance.yahoo.com/v7/finance/download/%5EGSPTSE?'+\\\n",
    "                'period1=-315619200&period2={}&interval=1d&events=history'.format(\n",
    "                (pd.Timestamp.today()-pd.Timestamp(\"1970-01-01\"))//pd.Timedelta('1s')),\n",
    "               parse_dates=['Date'],index_col=0)"
   ]
  },
  {
   "cell_type": "markdown",
   "metadata": {},
   "source": [
    "### Part 2: Explore & Process the Data"
   ]
  },
  {
   "cell_type": "code",
   "execution_count": 6,
   "metadata": {},
   "outputs": [
    {
     "data": {
      "text/plain": [
       "<matplotlib.axes._subplots.AxesSubplot at 0x1c415985c88>"
      ]
     },
     "execution_count": 6,
     "metadata": {},
     "output_type": "execute_result"
    },
    {
     "data": {
      "image/png": "[encoded data removed]",
      "text/plain": [
       "<Figure size 432x288 with 1 Axes>"
      ]
     },
     "metadata": {
      "needs_background": "light"
     },
     "output_type": "display_data"
    }
   ],
   "source": [
    "cpi_df.plot(title=col)"
   ]
  },
  {
   "cell_type": "code",
   "execution_count": 7,
   "metadata": {},
   "outputs": [],
   "source": [
    "# the TSX data exists only for non-holiday weekdays but to keep all months' data comparable\n",
    "# let's assume that there is no change in economic conditions on those days, so we can forward\n",
    "# fill missing data over a continuous daily date range to address this issue by first creating\n",
    "# an empty dataframe of all days in between the start and end dates of the available TSX data\n",
    "continuous_daterange=pd.date_range(tsx.index[0],tsx.index[-1]).to_frame().drop(0,axis=1)\n",
    "# then concatenate this continuous date range with the TSX data and do a forward fill\n",
    "tsx=pd.concat([continuous_daterange,tsx],axis=1).ffill()\n",
    "del continuous_daterange # delete the temporary continuous_daterange index"
   ]
  },
  {
   "cell_type": "code",
   "execution_count": 8,
   "metadata": {},
   "outputs": [
    {
     "data": {
      "text/html": [
       "<div>\n",
       "<style scoped>\n",
       "    .dataframe tbody tr th:only-of-type {\n",
       "        vertical-align: middle;\n",
       "    }\n",
       "\n",
       "    .dataframe tbody tr th {\n",
       "        vertical-align: top;\n",
       "    }\n",
       "\n",
       "    .dataframe thead th {\n",
       "        text-align: right;\n",
       "    }\n",
       "</style>\n",
       "<table border=\"1\" class=\"dataframe\">\n",
       "  <thead>\n",
       "    <tr style=\"text-align: right;\">\n",
       "      <th></th>\n",
       "      <th>Open</th>\n",
       "      <th>High</th>\n",
       "      <th>Low</th>\n",
       "      <th>Close</th>\n",
       "      <th>Adj Close</th>\n",
       "      <th>Volume</th>\n",
       "    </tr>\n",
       "  </thead>\n",
       "  <tbody>\n",
       "    <tr>\n",
       "      <th>1984-11-05</th>\n",
       "      <td>2369.100098</td>\n",
       "      <td>2389.800049</td>\n",
       "      <td>2368.800049</td>\n",
       "      <td>2389.800049</td>\n",
       "      <td>2383.731201</td>\n",
       "      <td>112400.0</td>\n",
       "    </tr>\n",
       "    <tr>\n",
       "      <th>1984-11-06</th>\n",
       "      <td>2400.899902</td>\n",
       "      <td>2423.000000</td>\n",
       "      <td>2400.899902</td>\n",
       "      <td>2423.000000</td>\n",
       "      <td>2416.846680</td>\n",
       "      <td>161600.0</td>\n",
       "    </tr>\n",
       "    <tr>\n",
       "      <th>1984-11-07</th>\n",
       "      <td>2423.899902</td>\n",
       "      <td>2427.000000</td>\n",
       "      <td>2412.899902</td>\n",
       "      <td>2413.800049</td>\n",
       "      <td>2407.670654</td>\n",
       "      <td>105500.0</td>\n",
       "    </tr>\n",
       "    <tr>\n",
       "      <th>1984-11-08</th>\n",
       "      <td>2409.399902</td>\n",
       "      <td>2419.100098</td>\n",
       "      <td>2407.199951</td>\n",
       "      <td>2415.199951</td>\n",
       "      <td>2409.066650</td>\n",
       "      <td>90400.0</td>\n",
       "    </tr>\n",
       "    <tr>\n",
       "      <th>1984-11-09</th>\n",
       "      <td>2421.100098</td>\n",
       "      <td>2425.800049</td>\n",
       "      <td>2416.199951</td>\n",
       "      <td>2416.500000</td>\n",
       "      <td>2410.363525</td>\n",
       "      <td>75700.0</td>\n",
       "    </tr>\n",
       "  </tbody>\n",
       "</table>\n",
       "</div>"
      ],
      "text/plain": [
       "                   Open         High          Low        Close    Adj Close  \\\n",
       "1984-11-05  2369.100098  2389.800049  2368.800049  2389.800049  2383.731201   \n",
       "1984-11-06  2400.899902  2423.000000  2400.899902  2423.000000  2416.846680   \n",
       "1984-11-07  2423.899902  2427.000000  2412.899902  2413.800049  2407.670654   \n",
       "1984-11-08  2409.399902  2419.100098  2407.199951  2415.199951  2409.066650   \n",
       "1984-11-09  2421.100098  2425.800049  2416.199951  2416.500000  2410.363525   \n",
       "\n",
       "              Volume  \n",
       "1984-11-05  112400.0  \n",
       "1984-11-06  161600.0  \n",
       "1984-11-07  105500.0  \n",
       "1984-11-08   90400.0  \n",
       "1984-11-09   75700.0  "
      ]
     },
     "execution_count": 8,
     "metadata": {},
     "output_type": "execute_result"
    }
   ],
   "source": [
    "# it appears that the volume is zero until November 1984, so only daily data from 1985 onward will be used\n",
    "tsx[tsx.Volume!=0].dropna().head()"
   ]
  },
  {
   "cell_type": "markdown",
   "metadata": {},
   "source": [
    "### Part 3: Fit MIDAS Regressoion Model"
   ]
  },
  {
   "cell_type": "code",
   "execution_count": 9,
   "metadata": {},
   "outputs": [],
   "source": [
    "x1 = tsx['Adj Close'].rename('TSX_7d_pct_change')['1983-11-01':'2020-06-01'].pct_change(7).dropna()\n",
    "x2 = tsx['Adj Close'].rename('TSX_14d_pct_change')['1983-11-01':'2020-06-01'].pct_change(14).dropna()\n",
    "x3 = tsx['Adj Close'].rename('TSX_21d_pct_change')['1983-11-01':'2020-06-01'].pct_change(21).dropna()\n",
    "x4 = tsx['Adj Close'].rename('TSX_28d_pct_change')['1983-11-01':'2020-06-01'].pct_change(28).dropna()\n",
    "y = cpi_df.rename('CPI_YoY')['1984-02-01':'2020-06-01']"
   ]
  },
  {
   "cell_type": "code",
   "execution_count": 10,
   "metadata": {},
   "outputs": [],
   "source": [
    "model = MIDASRegressor(endog=y,exog=pd.concat([x1,x2,x3,x4],axis=1).loc['1983-11-30':],\n",
    "                       xlag=30,ylag=6,poly='beta')"
   ]
  },
  {
   "cell_type": "code",
   "execution_count": 11,
   "metadata": {},
   "outputs": [],
   "source": [
    "fit = model.fit() # this may take a few minutes"
   ]
  },
  {
   "cell_type": "markdown",
   "metadata": {},
   "source": [
    "### Part 4: Evaluate Model Fit"
   ]
  },
  {
   "cell_type": "code",
   "execution_count": 12,
   "metadata": {},
   "outputs": [
    {
     "data": {
      "text/plain": [
       "<matplotlib.axes._subplots.AxesSubplot at 0x1c415f86e48>"
      ]
     },
     "execution_count": 12,
     "metadata": {},
     "output_type": "execute_result"
    },
    {
     "data": {
      "image/png": "[encoded data removed]",
      "text/plain": [
       "<Figure size 432x288 with 1 Axes>"
      ]
     },
     "metadata": {
      "needs_background": "light"
     },
     "output_type": "display_data"
    }
   ],
   "source": [
    "pd.concat([fit.orig_endog,fit.predict()], axis=1).plot()"
   ]
  },
  {
   "cell_type": "code",
   "execution_count": 13,
   "metadata": {},
   "outputs": [
    {
     "data": {
      "text/plain": [
       "0.9653730632613234"
      ]
     },
     "execution_count": 13,
     "metadata": {},
     "output_type": "execute_result"
    }
   ],
   "source": [
    "fit.score()"
   ]
  },
  {
   "cell_type": "code",
   "execution_count": 14,
   "metadata": {},
   "outputs": [
    {
     "data": {
      "text/html": [
       "<div>\n",
       "<style scoped>\n",
       "    .dataframe tbody tr th:only-of-type {\n",
       "        vertical-align: middle;\n",
       "    }\n",
       "\n",
       "    .dataframe tbody tr th {\n",
       "        vertical-align: top;\n",
       "    }\n",
       "\n",
       "    .dataframe thead th {\n",
       "        text-align: right;\n",
       "    }\n",
       "</style>\n",
       "<table border=\"1\" class=\"dataframe\">\n",
       "  <thead>\n",
       "    <tr style=\"text-align: right;\">\n",
       "      <th></th>\n",
       "      <th>coef</th>\n",
       "      <th>std err</th>\n",
       "      <th>t</th>\n",
       "      <th>P&gt;|t|</th>\n",
       "      <th>0.025</th>\n",
       "      <th>0.975</th>\n",
       "    </tr>\n",
       "  </thead>\n",
       "  <tbody>\n",
       "    <tr>\n",
       "      <th>Constant</th>\n",
       "      <td>0.039</td>\n",
       "      <td>0.023</td>\n",
       "      <td>1.728</td>\n",
       "      <td>0.085</td>\n",
       "      <td>-0.005</td>\n",
       "      <td>0.084</td>\n",
       "    </tr>\n",
       "    <tr>\n",
       "      <th>TSX_7d_pct_change</th>\n",
       "      <td>-25.062</td>\n",
       "      <td>5.968</td>\n",
       "      <td>-4.200</td>\n",
       "      <td>0.000</td>\n",
       "      <td>-36.792</td>\n",
       "      <td>-13.332</td>\n",
       "    </tr>\n",
       "    <tr>\n",
       "      <th>TSX_14d_pct_change</th>\n",
       "      <td>3.496</td>\n",
       "      <td>0.960</td>\n",
       "      <td>3.644</td>\n",
       "      <td>0.000</td>\n",
       "      <td>1.610</td>\n",
       "      <td>5.382</td>\n",
       "    </tr>\n",
       "    <tr>\n",
       "      <th>TSX_21d_pct_change</th>\n",
       "      <td>1.481</td>\n",
       "      <td>0.735</td>\n",
       "      <td>2.016</td>\n",
       "      <td>0.044</td>\n",
       "      <td>0.037</td>\n",
       "      <td>2.925</td>\n",
       "    </tr>\n",
       "    <tr>\n",
       "      <th>TSX_28d_pct_change</th>\n",
       "      <td>3.587</td>\n",
       "      <td>0.892</td>\n",
       "      <td>4.021</td>\n",
       "      <td>0.000</td>\n",
       "      <td>1.834</td>\n",
       "      <td>5.341</td>\n",
       "    </tr>\n",
       "    <tr>\n",
       "      <th>CPI_YoY t-1</th>\n",
       "      <td>0.909</td>\n",
       "      <td>0.048</td>\n",
       "      <td>18.918</td>\n",
       "      <td>0.000</td>\n",
       "      <td>0.815</td>\n",
       "      <td>1.004</td>\n",
       "    </tr>\n",
       "    <tr>\n",
       "      <th>CPI_YoY t-2</th>\n",
       "      <td>0.079</td>\n",
       "      <td>0.066</td>\n",
       "      <td>1.192</td>\n",
       "      <td>0.234</td>\n",
       "      <td>-0.051</td>\n",
       "      <td>0.209</td>\n",
       "    </tr>\n",
       "    <tr>\n",
       "      <th>CPI_YoY t-3</th>\n",
       "      <td>0.038</td>\n",
       "      <td>0.066</td>\n",
       "      <td>0.572</td>\n",
       "      <td>0.567</td>\n",
       "      <td>-0.092</td>\n",
       "      <td>0.168</td>\n",
       "    </tr>\n",
       "    <tr>\n",
       "      <th>CPI_YoY t-4</th>\n",
       "      <td>0.028</td>\n",
       "      <td>0.066</td>\n",
       "      <td>0.424</td>\n",
       "      <td>0.672</td>\n",
       "      <td>-0.102</td>\n",
       "      <td>0.158</td>\n",
       "    </tr>\n",
       "    <tr>\n",
       "      <th>CPI_YoY t-5</th>\n",
       "      <td>0.023</td>\n",
       "      <td>0.066</td>\n",
       "      <td>0.353</td>\n",
       "      <td>0.725</td>\n",
       "      <td>-0.106</td>\n",
       "      <td>0.153</td>\n",
       "    </tr>\n",
       "    <tr>\n",
       "      <th>CPI_YoY t-6</th>\n",
       "      <td>-0.099</td>\n",
       "      <td>0.049</td>\n",
       "      <td>-2.028</td>\n",
       "      <td>0.043</td>\n",
       "      <td>-0.195</td>\n",
       "      <td>-0.003</td>\n",
       "    </tr>\n",
       "  </tbody>\n",
       "</table>\n",
       "</div>"
      ],
      "text/plain": [
       "                      coef  std err       t  P>|t|   0.025   0.975\n",
       "Constant             0.039    0.023   1.728  0.085  -0.005   0.084\n",
       "TSX_7d_pct_change  -25.062    5.968  -4.200  0.000 -36.792 -13.332\n",
       "TSX_14d_pct_change   3.496    0.960   3.644  0.000   1.610   5.382\n",
       "TSX_21d_pct_change   1.481    0.735   2.016  0.044   0.037   2.925\n",
       "TSX_28d_pct_change   3.587    0.892   4.021  0.000   1.834   5.341\n",
       "CPI_YoY t-1          0.909    0.048  18.918  0.000   0.815   1.004\n",
       "CPI_YoY t-2          0.079    0.066   1.192  0.234  -0.051   0.209\n",
       "CPI_YoY t-3          0.038    0.066   0.572  0.567  -0.092   0.168\n",
       "CPI_YoY t-4          0.028    0.066   0.424  0.672  -0.102   0.158\n",
       "CPI_YoY t-5          0.023    0.066   0.353  0.725  -0.106   0.153\n",
       "CPI_YoY t-6         -0.099    0.049  -2.028  0.043  -0.195  -0.003"
      ]
     },
     "execution_count": 14,
     "metadata": {},
     "output_type": "execute_result"
    }
   ],
   "source": [
    "fit.significance()"
   ]
  }
 ],
 "metadata": {
  "kernelspec": {
   "display_name": "Python 3",
   "language": "python",
   "name": "python3"
  },
  "language_info": {
   "codemirror_mode": {
    "name": "ipython",
    "version": 3
   },
   "file_extension": ".py",
   "mimetype": "text/x-python",
   "name": "python",
   "nbconvert_exporter": "python",
   "pygments_lexer": "ipython3",
   "version": "3.7.5"
  }
 },
 "nbformat": 4,
 "nbformat_minor": 4
}
